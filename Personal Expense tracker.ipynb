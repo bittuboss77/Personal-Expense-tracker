{
 "cells": [
  {
   "cell_type": "code",
   "execution_count": 22,
   "id": "55ca087a-3ad3-4ea4-869d-ef1f4186cf44",
   "metadata": {},
   "outputs": [],
   "source": [
    "import os\n",
    "import csv\n",
    "\n",
    "from datetime import datetime\n",
    "\n",
    "expenses = []\n",
    "budget = 0.00\n",
    "filename = \"expense_tracker.csv\"\n",
    "\n"
   ]
  },
  {
   "cell_type": "code",
   "execution_count": 23,
   "id": "3c7d7b68-2bbc-4310-b1e8-eca35e6311cc",
   "metadata": {},
   "outputs": [],
   "source": [
    "def load_expense():\n",
    "    global expenses\n",
    "    expenses =[]\n",
    "    if os.path.exists(filename):\n",
    "        with open(filename,mode='r') as file:\n",
    "            reader = csv.DictReader(file)\n",
    "            for row in reader:\n",
    "                try:\n",
    "                    row[\"amount\"]=float(row[\"amount\"])\n",
    "                    expenses.append(row)\n",
    "                except ValueError:\n",
    "                    print(f\"skipping invalid row ={row} . All fileds are madatory to be filled\")\n",
    "            print(\"Expenses loaded successfully.\\n\")\n",
    "    else:\n",
    "        print(\"No expense to load yet\")\n"
   ]
  },
  {
   "cell_type": "code",
   "execution_count": 24,
   "id": "d877803e-477d-405d-9ea6-b5282d3adcc2",
   "metadata": {},
   "outputs": [],
   "source": [
    "def save_expense():\n",
    "    with open(filename , mode='w',newline='') as file:\n",
    "        column = [\"date\",\"category\",\"amount\",\"description\"]\n",
    "        writer = csv.DictWriter(file, fieldnames = column)\n",
    "        writer.writeheader()\n",
    "        for expense in expenses:\n",
    "            writer.writerow(expense)\n",
    "    print(\"Expenses saved Successfully\")"
   ]
  },
  {
   "cell_type": "code",
   "execution_count": 25,
   "id": "c9df9913-adfd-4b8c-8729-3827305a9afe",
   "metadata": {},
   "outputs": [],
   "source": [
    "def add_expense():\n",
    "    try:\n",
    "        date = input(\"Please enter the date of expense in yyyy-mm-dd format\\n\")\n",
    "        datetime.strptime(date, '%Y-%m-%d')\n",
    "        category =  input(\"Please enter thr catedory of the expnense like food, travel, investment etc \\n\").strip()\n",
    "        amount = float(input(\"enter the amount :\\n\"))\n",
    "        description = input(\"Enter the description:\\n\")\n",
    "\n",
    "        expense_1 = {\"date\":date,\n",
    "                     \"category\": category,\n",
    "                     \"amount\": amount,\n",
    "                     \"description\": description\n",
    "                    }\n",
    "        expenses.append(expense_1)\n",
    "          \n",
    "        print(\"Expenses Successfully added.\\n\")\n",
    "    except ValueError:\n",
    "        print(\"\"\"Make sure to had filled all entries.\n",
    "        PlEASE TRY AGAIN\"\"\")"
   ]
  },
  {
   "cell_type": "code",
   "execution_count": 26,
   "id": "42c09f24-529d-41d7-8f20-83131086a54b",
   "metadata": {},
   "outputs": [],
   "source": [
    "def view_expense():\n",
    "    if not expenses :\n",
    "        print('No expenses to display.\\n')\n",
    "        return\n",
    "    print(\"\\nExpenses are as follow: \")\n",
    "    for i, expense_1 in enumerate(expenses, start=1):\n",
    "        if all (key in expense_1 and expense_1[key] for key in [\"date\",\"category\",\"amount\", \"description\"]):\n",
    "            print(f'{i}. date:{expense_1['date']},category:{expense_1['category']}, amount :{expense_1['amount']}, description:{expense_1['description']}')\n",
    "        else:\n",
    "            print(f'{i}.[Incomplete Entry]')\n",
    "    print()"
   ]
  },
  {
   "cell_type": "code",
   "execution_count": 27,
   "id": "9d0fe337-dd4c-417b-8bc3-924870f6ad8b",
   "metadata": {},
   "outputs": [],
   "source": [
    "def set_budget():\n",
    "    global budget\n",
    "    try:\n",
    "        budget = float(input(\"Enter yout monthly budget: \"))\n",
    "        print(f\"Your monthly budget set to be {budget}\")\n",
    "    except ValueError:\n",
    "        print('Invalid input. Please Enter the number.\\n')"
   ]
  },
  {
   "cell_type": "code",
   "execution_count": 28,
   "id": "ccab2e09-5cda-44c9-9ee0-7c71f778ecc8",
   "metadata": {},
   "outputs": [],
   "source": [
    "def track_budget():\n",
    "    if budget == 0.00:\n",
    "        print('No budget set yet. Please set a budget first.\\n')\n",
    "        return\n",
    "    total_spent = sum(expense_1['amount'] for expense_1 in expenses)\n",
    "    remaining_amount=budget-total_spent\n",
    "\n",
    "    print(f'\\n Total spent till now : {total_spent}')\n",
    "    if total_spent > budget:\n",
    "        print(\"warning!!! You have exceeded your budget! \\n\")\n",
    "    else:\n",
    "        print(f'You have {remaining_amount} left for the month.\\n')"
   ]
  },
  {
   "cell_type": "code",
   "execution_count": 29,
   "id": "5b1e5990-2e25-433b-9ffb-15122024ec62",
   "metadata": {},
   "outputs": [],
   "source": [
    "def reset_budget():\n",
    "    global budget\n",
    "    \n",
    "    budget = float(input(\"Enter the new budget\"))\n",
    "    return budget"
   ]
  },
  {
   "cell_type": "code",
   "execution_count": 30,
   "id": "c4102516-962f-49d0-9dea-8d5b2c243ae1",
   "metadata": {},
   "outputs": [],
   "source": [
    "def menu():\n",
    "    \n",
    "    while True:\n",
    "        print(\"WELCOME! To personal expense tracker\")\n",
    "        print(\"1. Add expense\")\n",
    "        print(\"2. View expenses\")\n",
    "        print(\"3. Track budget\")\n",
    "        print(\"4. Save expenses\")\n",
    "        print(\"5. Reset budget\")\n",
    "        print(\"6. Exit\")\n",
    "        choice = input(\"Choose an option (1-5): \").strip()\n",
    "\n",
    "        if choice == '1':\n",
    "            add_expense()\n",
    "        elif choice == '2':\n",
    "            view_expense()\n",
    "        elif choice == '3':\n",
    "            if budget == 0.00:\n",
    "                set_budget()\n",
    "            track_budget()\n",
    "        elif choice == '4':\n",
    "            save_expense()\n",
    "        elif choice == '5':\n",
    "            reset_budget()\n",
    "            \n",
    "        elif choice == '6':\n",
    "            save_expense()\n",
    "            print(\"Goodbye!\")\n",
    "            break\n",
    "        else:\n",
    "            print(\"Invalid choice. Please try again.\\n\")\n",
    "        \n",
    "    "
   ]
  },
  {
   "cell_type": "code",
   "execution_count": null,
   "id": "179208b1-b08c-4279-932f-b17a13dfae99",
   "metadata": {},
   "outputs": [
    {
     "name": "stdout",
     "output_type": "stream",
     "text": [
      "No expense to load yet\n",
      "WELCOME! To personal expense tracker\n",
      "1. Add expense\n",
      "2. View expenses\n",
      "3. Track budget\n",
      "4. Save expenses\n",
      "5. Reset budget\n",
      "6. Exit\n"
     ]
    }
   ],
   "source": [
    "if __name__ == \"__main__\":\n",
    "    load_expense()\n",
    "    \n",
    "    menu()"
   ]
  },
  {
   "cell_type": "code",
   "execution_count": null,
   "id": "85fa536b-5a40-486d-8e2e-5905767eb398",
   "metadata": {},
   "outputs": [],
   "source": []
  },
  {
   "cell_type": "code",
   "execution_count": null,
   "id": "682854d7-941d-4c5f-b1e3-6af6b3b8d4be",
   "metadata": {},
   "outputs": [],
   "source": []
  }
 ],
 "metadata": {
  "kernelspec": {
   "display_name": "Python 3 (ipykernel)",
   "language": "python",
   "name": "python3"
  },
  "language_info": {
   "codemirror_mode": {
    "name": "ipython",
    "version": 3
   },
   "file_extension": ".py",
   "mimetype": "text/x-python",
   "name": "python",
   "nbconvert_exporter": "python",
   "pygments_lexer": "ipython3",
   "version": "3.13.3"
  }
 },
 "nbformat": 4,
 "nbformat_minor": 5
}
